{
  "cells": [
    {
      "cell_type": "markdown",
      "metadata": {
        "id": "wDs0NU3njDC6"
      },
      "source": [
        "# Step 1: Import Libraries"
      ]
    },
    {
      "cell_type": "code",
      "execution_count": 1,
      "metadata": {
        "id": "vRwut4MmjDC7"
      },
      "outputs": [],
      "source": [
        "import re\n",
        "import scipy\n",
        "import string\n",
        "import pickle\n",
        "import warnings\n",
        "import numpy as np\n",
        "import pandas as pd\n",
        "import matplotlib.pyplot as plt\n",
        "\n",
        "from sklearn.preprocessing import LabelEncoder\n",
        "from sklearn.svm import LinearSVC\n",
        "from sklearn.naive_bayes import BernoulliNB\n",
        "from sklearn.ensemble import RandomForestClassifier\n",
        "from sklearn.linear_model import LogisticRegression\n",
        "from sklearn.metrics import accuracy_score,classification_report\n",
        "\n",
        "\n"
      ]
    },
    {
      "cell_type": "markdown",
      "metadata": {
        "id": "gTvGeMt7jDC9"
      },
      "source": [
        "# Step 2: Read, Understand & Pre-process Train/Test Data"
      ]
    },
    {
      "cell_type": "code",
      "execution_count": 3,
      "metadata": {
        "id": "1Zo07OSbjDC_",
        "outputId": "3ba4bc9e-8cc0-4eaf-ec2a-a3bdec517014",
        "colab": {
          "base_uri": "https://localhost:8080/"
        }
      },
      "outputs": [
        {
          "output_type": "stream",
          "name": "stdout",
          "text": [
            "\n",
            "\n",
            "Attributes in the train dataset\n",
            "Index(['height', 'weight', 'hair', 'beard', 'scarf', 'gender'], dtype='object')\n",
            "\n",
            "\n",
            "Train instances: 4\n",
            "\n",
            "Train dataset columns:\n",
            "\n",
            "   height  weight    hair beard scarf  gender\n",
            "0   179.1     185    Long   Yes    No    Male\n",
            "1   160.5     130   Short    No    No  Female\n",
            "2   177.8     160    Bald    No    No    Male\n",
            "3   161.1     100  Medium    No    No  Female\n"
          ]
        }
      ],
      "source": [
        "train_file_path = '/content/Gender_Identification_test.csv'\n",
        "test_file_path = '/content/Gender_Identification_train.csv'\n",
        "\n",
        "train_dataset = pd.read_csv(train_file_path)\n",
        "test_dataset = pd.read_csv(test_file_path)\n",
        "\n",
        "print(\"\\n\\nAttributes in the train dataset\")\n",
        "print(train_dataset.columns)\n",
        "\n",
        "print(\"\\n\\nTrain instances:\",train_dataset.shape[0])\n",
        "print(\"\\nTrain dataset columns:\\n\")\n",
        "print(train_dataset)\n",
        "original_train_dataset = train_dataset.copy()\n",
        "original_test_dataset = test_dataset.copy()"
      ]
    },
    {
      "cell_type": "code",
      "execution_count": 4,
      "metadata": {
        "id": "UmwYA7DzjDDB",
        "outputId": "c1cb4d07-dc28-4d02-9578-cbd727820022",
        "colab": {
          "base_uri": "https://localhost:8080/"
        }
      },
      "outputs": [
        {
          "output_type": "stream",
          "name": "stdout",
          "text": [
            "\n",
            "\n",
            "Attributes in the tesT dataset\n",
            "Index(['height', 'weight', 'hair', 'beard', 'scarf', 'gender'], dtype='object')\n",
            "\n",
            "\n",
            "Test instances: 6\n",
            "\n",
            "Test dataset columns:\n",
            "\n",
            "     height  weight    hair beard scarf  gender\n",
            "0  180.3000     196    Bald   Yes    No    Male\n",
            "1  170.0000     120    Long    No    No  Female\n",
            "2  178.5000     200   Short    No    No    Male\n",
            "3  163.4000     110  Medium    No   Yes  Female\n",
            "4  175.2222     220   Short   Yes    No    Male\n",
            "5  165.0000     150  Medium    No   Yes  Female\n"
          ]
        }
      ],
      "source": [
        "print(\"\\n\\nAttributes in the tesT dataset\")\n",
        "print(test_dataset.columns)\n",
        "\n",
        "print(\"\\n\\nTest instances:\",test_dataset.shape[0])\n",
        "print(\"\\nTest dataset columns:\\n\")\n",
        "print(test_dataset)"
      ]
    },
    {
      "cell_type": "code",
      "execution_count": 5,
      "metadata": {
        "id": "qWbH6iAajDDB",
        "outputId": "57939c19-f2d8-48b5-dc17-8cca574774cc",
        "colab": {
          "base_uri": "https://localhost:8080/"
        }
      },
      "outputs": [
        {
          "output_type": "stream",
          "name": "stdout",
          "text": [
            "Train male instances: 2\n",
            "INDEX  height  weight  hair beard scarf gender\n",
            "0       179.1     185  Long   Yes    No   Male\n",
            "2       177.8     160  Bald    No    No   Male\n",
            "Train female instances: 2\n",
            "INDEX  height  weight    hair beard scarf  gender\n",
            "1       160.5     130   Short    No    No  Female\n",
            "3       161.1     100  Medium    No    No  Female\n"
          ]
        }
      ],
      "source": [
        "train_Male = train_dataset[train_dataset['gender']=='Male']\n",
        "train_Female = train_dataset[train_dataset['gender']=='Female']\n",
        "print(\"Train male instances:\",train_Male.shape[0])\n",
        "train_dataset.index.names = ['INDEX']\n",
        "train_dataset.columns.name = train_dataset.index.name\n",
        "train_dataset.index.name = None\n",
        "print(train_Male)\n",
        "\n",
        "\n",
        "\n",
        "print(\"Train female instances:\",train_Female.shape[0])\n",
        "train_dataset.index.names = ['INDEX']\n",
        "train_dataset.columns.name = train_dataset.index.name\n",
        "train_dataset.index.name = None\n",
        "print(train_Female)"
      ]
    },
    {
      "cell_type": "code",
      "execution_count": 6,
      "metadata": {
        "id": "QCaC779SjDDC",
        "outputId": "3f5eade2-ba57-4635-8d0b-80c1221b5ee0",
        "colab": {
          "base_uri": "https://localhost:8080/"
        }
      },
      "outputs": [
        {
          "output_type": "stream",
          "name": "stdout",
          "text": [
            "Test male instances: 3\n",
            "INDEX    height  weight   hair beard scarf gender\n",
            "0      180.3000     196   Bald   Yes    No   Male\n",
            "2      178.5000     200  Short    No    No   Male\n",
            "4      175.2222     220  Short   Yes    No   Male\n",
            "Test female instances: 3\n",
            "INDEX  height  weight    hair beard scarf  gender\n",
            "1       170.0     120    Long    No    No  Female\n",
            "3       163.4     110  Medium    No   Yes  Female\n",
            "5       165.0     150  Medium    No   Yes  Female\n"
          ]
        }
      ],
      "source": [
        "test_Male = test_dataset[test_dataset['gender']=='Male']\n",
        "test_Female = test_dataset[test_dataset['gender']=='Female']\n",
        "print(\"Test male instances:\",test_Male.shape[0])\n",
        "test_dataset.index.names = ['INDEX']\n",
        "test_dataset.columns.name = test_dataset.index.name\n",
        "test_dataset.index.name = None\n",
        "print(test_Male)\n",
        "\n",
        "\n",
        "\n",
        "print(\"Test female instances:\",test_Female.shape[0])\n",
        "test_dataset.index.names = ['INDEX']\n",
        "test_dataset.columns.name = test_dataset.index.name\n",
        "test_dataset.index.name = None\n",
        "print(test_Female)"
      ]
    },
    {
      "cell_type": "markdown",
      "metadata": {
        "id": "eZIRkafkjDDD"
      },
      "source": [
        "### Uderstanding Data via Graphs"
      ]
    },
    {
      "cell_type": "code",
      "execution_count": 7,
      "metadata": {
        "id": "PTzpWkK9jDDE",
        "outputId": "ca961a46-1e78-4e64-b391-640e9f2468ab",
        "colab": {
          "base_uri": "https://localhost:8080/",
          "height": 484
        }
      },
      "outputs": [
        {
          "output_type": "stream",
          "name": "stdout",
          "text": [
            "Total numbr of Males and Females in train dataset\n"
          ]
        },
        {
          "output_type": "execute_result",
          "data": {
            "text/plain": [
              "<Axes: xlabel='Gender'>"
            ]
          },
          "metadata": {},
          "execution_count": 7
        },
        {
          "output_type": "display_data",
          "data": {
            "text/plain": [
              "<Figure size 640x480 with 1 Axes>"
            ],
            "image/png": "[encoded data removed]"
          },
          "metadata": {}
        }
      ],
      "source": [
        "print(\"Total numbr of Males and Females in train dataset\")\n",
        "graph_df = pd.DataFrame({'Gender':['Female','Male'],'Frequency':[2,2]})\n",
        "graph_df.plot.bar(x='Gender',y='Frequency',rot=0)"
      ]
    },
    {
      "cell_type": "code",
      "execution_count": 8,
      "metadata": {
        "id": "TqzNwgB9jDDE",
        "outputId": "56e8e239-f213-4081-8a78-fdeeb37d6002",
        "colab": {
          "base_uri": "https://localhost:8080/",
          "height": 484
        }
      },
      "outputs": [
        {
          "output_type": "stream",
          "name": "stdout",
          "text": [
            "Total numbr of Males and Females in test dataset\n"
          ]
        },
        {
          "output_type": "execute_result",
          "data": {
            "text/plain": [
              "<Axes: xlabel='Gender'>"
            ]
          },
          "metadata": {},
          "execution_count": 8
        },
        {
          "output_type": "display_data",
          "data": {
            "text/plain": [
              "<Figure size 640x480 with 1 Axes>"
            ],
            "image/png": "[encoded data removed]"
          },
          "metadata": {}
        }
      ],
      "source": [
        "print(\"Total numbr of Males and Females in test dataset\")\n",
        "graph_df = pd.DataFrame({'Gender':['Female','Male'],'Frequency':[3,3]})\n",
        "graph_df.plot.bar(x='Gender',y='Frequency',rot=0)\n"
      ]
    },
    {
      "cell_type": "code",
      "execution_count": 9,
      "metadata": {
        "id": "iNBtSrjNjDDF",
        "outputId": "a47f60f4-5fce-4e70-a40c-b1adebdbbd82",
        "colab": {
          "base_uri": "https://localhost:8080/",
          "height": 543
        }
      },
      "outputs": [
        {
          "output_type": "stream",
          "name": "stdout",
          "text": [
            "Number of people having various hair length in train dataset\n",
            "\n"
          ]
        },
        {
          "output_type": "execute_result",
          "data": {
            "text/plain": [
              "<Axes: xlabel='hair'>"
            ]
          },
          "metadata": {},
          "execution_count": 9
        },
        {
          "output_type": "display_data",
          "data": {
            "text/plain": [
              "<Figure size 640x480 with 1 Axes>"
            ],
            "image/png": "[encoded data removed]"
          },
          "metadata": {}
        }
      ],
      "source": [
        "print(\"Number of people having various hair length in train dataset\\n\")\n",
        "train_hair = train_dataset['hair'].value_counts()\n",
        "train_hair.plot(kind='bar', stacked = True, colormap='RdGy')"
      ]
    },
    {
      "cell_type": "code",
      "execution_count": 10,
      "metadata": {
        "id": "a9Bii2gJjDDF",
        "outputId": "570a27a7-c07d-4f95-a25c-d354bc9eab06",
        "colab": {
          "base_uri": "https://localhost:8080/",
          "height": 543
        }
      },
      "outputs": [
        {
          "output_type": "stream",
          "name": "stdout",
          "text": [
            "Number of people having various hair length in test dataset\n",
            "\n"
          ]
        },
        {
          "output_type": "execute_result",
          "data": {
            "text/plain": [
              "<Axes: xlabel='hair'>"
            ]
          },
          "metadata": {},
          "execution_count": 10
        },
        {
          "output_type": "display_data",
          "data": {
            "text/plain": [
              "<Figure size 640x480 with 1 Axes>"
            ],
            "image/png": "[encoded data removed]"
          },
          "metadata": {}
        }
      ],
      "source": [
        "print(\"Number of people having various hair length in test dataset\\n\")\n",
        "test_hair = test_dataset['hair'].value_counts()\n",
        "test_hair.plot(kind='bar', stacked = True, color='yellow')"
      ]
    },
    {
      "cell_type": "code",
      "execution_count": 11,
      "metadata": {
        "id": "W6aG9RZJjDDG",
        "outputId": "9cfdd34f-48bb-403f-ce1c-b43b23d1e018",
        "colab": {
          "base_uri": "https://localhost:8080/",
          "height": 510
        }
      },
      "outputs": [
        {
          "output_type": "stream",
          "name": "stdout",
          "text": [
            "Number of people having beard or not in train dataset\n",
            "\n"
          ]
        },
        {
          "output_type": "execute_result",
          "data": {
            "text/plain": [
              "<Axes: xlabel='beard'>"
            ]
          },
          "metadata": {},
          "execution_count": 11
        },
        {
          "output_type": "display_data",
          "data": {
            "text/plain": [
              "<Figure size 640x480 with 1 Axes>"
            ],
            "image/png": "[encoded data removed]"
          },
          "metadata": {}
        }
      ],
      "source": [
        "print(\"Number of people having beard or not in train dataset\\n\")\n",
        "train_beard = train_dataset['beard'].value_counts()\n",
        "train_beard.plot(kind='bar', stacked = True, color='black')\n"
      ]
    },
    {
      "cell_type": "code",
      "execution_count": 12,
      "metadata": {
        "id": "KGmCZLDNjDDG",
        "outputId": "6426e9fd-f8c2-4fc3-de0d-e4d7c255c82f",
        "colab": {
          "base_uri": "https://localhost:8080/",
          "height": 510
        }
      },
      "outputs": [
        {
          "output_type": "stream",
          "name": "stdout",
          "text": [
            "Number of people having beard or not in test dataset\n",
            "\n"
          ]
        },
        {
          "output_type": "execute_result",
          "data": {
            "text/plain": [
              "<Axes: xlabel='beard'>"
            ]
          },
          "metadata": {},
          "execution_count": 12
        },
        {
          "output_type": "display_data",
          "data": {
            "text/plain": [
              "<Figure size 640x480 with 1 Axes>"
            ],
            "image/png": "[encoded data removed]"
          },
          "metadata": {}
        }
      ],
      "source": [
        "print(\"Number of people having beard or not in test dataset\\n\")\n",
        "test_beard = train_dataset['beard'].value_counts()\n",
        "test_beard.plot(kind='bar', stacked = True, color='yellow')\n"
      ]
    },
    {
      "cell_type": "markdown",
      "metadata": {
        "id": "rkgbJISejDDH"
      },
      "source": [
        "### Step 2.3: Pre-Process Data"
      ]
    },
    {
      "cell_type": "code",
      "execution_count": 13,
      "metadata": {
        "id": "qykWnhEfjDDH",
        "outputId": "6835e306-396f-4091-c95e-21a11b681af0",
        "colab": {
          "base_uri": "https://localhost:8080/"
        }
      },
      "outputs": [
        {
          "output_type": "stream",
          "name": "stdout",
          "text": [
            "Test data before pre processing\n",
            "\n",
            "\n",
            "INDEX    height  weight    hair beard scarf  gender\n",
            "0      180.3000     196    Bald   Yes    No    Male\n",
            "1      170.0000     120    Long    No    No  Female\n",
            "2      178.5000     200   Short    No    No    Male\n",
            "3      163.4000     110  Medium    No   Yes  Female\n",
            "4      175.2222     220   Short   Yes    No    Male\n",
            "5      165.0000     150  Medium    No   Yes  Female\n",
            "Test data after pre processing\n",
            "\n",
            "\n",
            "INDEX  height  weight    hair beard scarf  gender\n",
            "0      180.30     196    Bald   Yes    No    Male\n",
            "1      170.00     120    Long    No    No  Female\n",
            "2      178.50     200   Short    No    No    Male\n",
            "3      163.40     110  Medium    No   Yes  Female\n",
            "4      175.22     220   Short   Yes    No    Male\n",
            "5      165.00     150  Medium    No   Yes  Female\n"
          ]
        }
      ],
      "source": [
        "print(\"Test data before pre processing\\n\\n\")\n",
        "print(test_dataset)\n",
        "\n",
        "test_dataset.fillna('')\n",
        "\n",
        "test_dataset.height = round(test_dataset.height, 2)\n",
        "print(\"Test data after pre processing\\n\\n\")\n",
        "print(test_dataset)"
      ]
    },
    {
      "cell_type": "markdown",
      "metadata": {
        "id": "cDJbkufvjDDH"
      },
      "source": [
        "# Step 3: Label Encoding for Test/Train Data"
      ]
    },
    {
      "cell_type": "markdown",
      "metadata": {
        "id": "ekwPV8s3jDDH"
      },
      "source": [
        "#### Label encoding train dataset"
      ]
    },
    {
      "cell_type": "code",
      "execution_count": 32,
      "metadata": {
        "id": "wjXVEms-jDDI",
        "outputId": "03bb955d-7bbc-4bec-db3f-eba7cd04a276",
        "colab": {
          "base_uri": "https://localhost:8080/"
        }
      },
      "outputs": [
        {
          "output_type": "stream",
          "name": "stdout",
          "text": [
            "Attributes label encoding in train dataset\n",
            "\n",
            "INDEX  height  weight  hair  beard  scarf  gender\n",
            "0       179.1     185     1      1      0       1\n",
            "1       160.5     130     3      0      0       0\n",
            "2       177.8     160     0      0      0       1\n",
            "3       161.1     100     2      0      0       0\n"
          ]
        }
      ],
      "source": [
        "print(\"Attributes label encoding in train dataset\\n\")\n",
        "train_dataset['gender'] = train_dataset['gender'].astype(str)\n",
        "labelEncoder_gender = LabelEncoder()\n",
        "gender = ['Male','Female']\n",
        "labelEncoder_gender.fit(train_dataset['gender'].unique())\n",
        "\n",
        "train_gender_encoding = pd.DataFrame(labelEncoder_gender.transform(train_dataset['gender']))\n",
        "train_dataset['gender'] = train_gender_encoding\n",
        "\n",
        "train_dataset['scarf'] = train_dataset['scarf'].astype(str)\n",
        "labelEncoder_scarf = LabelEncoder()\n",
        "scarf = ['Yes','No']\n",
        "labelEncoder_scarf.fit(train_dataset['scarf'].unique())\n",
        "\n",
        "train_scarf_encoding = pd.DataFrame(labelEncoder_scarf.transform(train_dataset['scarf']))\n",
        "train_dataset['scarf'] = train_scarf_encoding\n",
        "\n",
        "train_dataset['beard'] = train_dataset['beard'].astype(str)\n",
        "labelEncoder_beard = LabelEncoder()\n",
        "beard = ['Yes','No']\n",
        "labelEncoder_beard.fit(train_dataset['beard'].unique())\n",
        "\n",
        "train_beard_encoding = pd.DataFrame(labelEncoder_beard.transform(train_dataset['beard']))\n",
        "train_dataset['beard'] = train_beard_encoding\n",
        "\n",
        "\n",
        "train_dataset['hair'] = train_dataset['hair'].astype(str)\n",
        "labelEncoder_hair = LabelEncoder()\n",
        "hair = ['Bald','Short','Medium','Long']\n",
        "labelEncoder_hair.fit(train_dataset['hair'].unique())\n",
        "\n",
        "train_hair_encoding = pd.DataFrame(labelEncoder_hair.transform(train_dataset['hair']))\n",
        "train_dataset['hair'] = train_hair_encoding\n",
        "print(train_dataset)"
      ]
    },
    {
      "cell_type": "code",
      "execution_count": 15,
      "metadata": {
        "id": "lCq3wH4FjDDI",
        "outputId": "998b9edf-190f-461a-b160-defe36d6efe6",
        "colab": {
          "base_uri": "https://localhost:8080/"
        }
      },
      "outputs": [
        {
          "output_type": "stream",
          "name": "stdout",
          "text": [
            "Before encoding\n",
            "\n",
            "   height  weight    hair beard scarf  gender\n",
            "0   179.1     185    Long   Yes    No    Male\n",
            "1   160.5     130   Short    No    No  Female\n",
            "2   177.8     160    Bald    No    No    Male\n",
            "3   161.1     100  Medium    No    No  Female\n",
            "\n",
            "After encoding\n",
            "INDEX  height  weight  hair  beard  scarf  gender\n",
            "0       179.1     185     1      1      0       1\n",
            "1       160.5     130     3      0      0       0\n",
            "2       177.8     160     0      0      0       1\n",
            "3       161.1     100     2      0      0       0\n"
          ]
        }
      ],
      "source": [
        "print(\"Before encoding\\n\")\n",
        "print(original_train_dataset)\n",
        "\n",
        "print(\"\\nAfter encoding\")\n",
        "print(train_dataset)\n"
      ]
    },
    {
      "cell_type": "markdown",
      "metadata": {
        "id": "4dnFgfpYjDDI"
      },
      "source": [
        "#### Label encoding test dataset"
      ]
    },
    {
      "cell_type": "code",
      "execution_count": 16,
      "metadata": {
        "id": "zSRBOsmHjDDI",
        "outputId": "da1454d5-2b05-4d86-b844-7934a006f932",
        "colab": {
          "base_uri": "https://localhost:8080/"
        }
      },
      "outputs": [
        {
          "output_type": "stream",
          "name": "stdout",
          "text": [
            "Before encoding\n",
            "\n",
            "     height  weight    hair beard scarf  gender\n",
            "0  180.3000     196    Bald   Yes    No    Male\n",
            "1  170.0000     120    Long    No    No  Female\n",
            "2  178.5000     200   Short    No    No    Male\n",
            "3  163.4000     110  Medium    No   Yes  Female\n",
            "4  175.2222     220   Short   Yes    No    Male\n",
            "5  165.0000     150  Medium    No   Yes  Female\n",
            "Attributes label encoding in train dataset\n",
            "\n",
            "INDEX  height  weight  hair  beard  scarf  gender\n",
            "0      180.30     196     1      1      0       1\n",
            "1      170.00     120     3      0      0       0\n",
            "2      178.50     200     0      0      0       1\n",
            "3      163.40     110     2      0      1       0\n",
            "4      175.22     220     4      1      0       1\n",
            "5      165.00     150     4      0      1       0\n"
          ]
        }
      ],
      "source": [
        "print(\"Before encoding\\n\")\n",
        "print(original_test_dataset)\n",
        "\n",
        "print(\"Attributes label encoding in train dataset\\n\")\n",
        "test_dataset['gender'] = test_dataset['gender'].astype(str)\n",
        "labelEncoder_gender = LabelEncoder()\n",
        "gender = ['Male','Female']\n",
        "labelEncoder_gender.fit(test_dataset['gender'].unique())\n",
        "\n",
        "test_gender_encoding = pd.DataFrame(labelEncoder_gender.transform(test_dataset['gender']))\n",
        "test_dataset['gender'] = test_gender_encoding\n",
        "\n",
        "test_dataset['scarf'] = test_dataset['scarf'].astype(str)\n",
        "labelEncoder_scarf = LabelEncoder()\n",
        "scarf = ['Yes','No']\n",
        "labelEncoder_scarf.fit(test_dataset['scarf'].unique())\n",
        "\n",
        "test_scarf_encoding = pd.DataFrame(labelEncoder_scarf.transform(test_dataset['scarf']))\n",
        "test_dataset['scarf'] = test_scarf_encoding\n",
        "\n",
        "test_dataset['beard'] = test_dataset['beard'].astype(str)\n",
        "labelEncoder_beard = LabelEncoder()\n",
        "beard = ['Yes','No']\n",
        "labelEncoder_beard.fit(test_dataset['beard'].unique())\n",
        "\n",
        "test_beard_encoding = pd.DataFrame(labelEncoder_beard.transform(test_dataset['beard']))\n",
        "test_dataset['beard'] = test_beard_encoding\n",
        "\n",
        "\n",
        "test_dataset['hair'] = train_dataset['hair'].astype(str)\n",
        "labelEncoder_hair = LabelEncoder()\n",
        "hair = ['Bald','Short','Medium','Long']\n",
        "labelEncoder_hair.fit(test_dataset['hair'].unique())\n",
        "test_hair_encoding = pd.DataFrame(labelEncoder_hair.transform(test_dataset['hair']))\n",
        "test_dataset['hair'] = test_hair_encoding\n",
        "print(test_dataset)"
      ]
    },
    {
      "cell_type": "markdown",
      "metadata": {
        "id": "I6tKlVa1jDDJ"
      },
      "source": [
        "# Step 5: Train Machine Learning Algorithms using Training Data"
      ]
    },
    {
      "cell_type": "code",
      "execution_count": 24,
      "metadata": {
        "id": "FbjDwZ9KjDDJ",
        "outputId": "f9524310-6373-48f4-fcd8-cab43091e1d8",
        "colab": {
          "base_uri": "https://localhost:8080/"
        }
      },
      "outputs": [
        {
          "output_type": "stream",
          "name": "stdout",
          "text": [
            "Parameters and their values:\n",
            "\n",
            "LogisticRegression()\n"
          ]
        }
      ],
      "source": [
        "train = train_dataset[['height','weight','hair','beard','scarf']]\n",
        "test = test_dataset[['height','weight','hair','beard','scarf']]\n",
        "sparse_train_features = scipy.sparse.csr_matrix(train.values)\n",
        "sparse_test_features = scipy.sparse.csr_matrix(test.values)\n",
        "model_names =[]\n",
        "logistic_regression = LogisticRegression()\n",
        "print(\"Parameters and their values:\\n\")\n",
        "\n",
        "print(logistic_regression)\n",
        "logistic_regression.fit(sparse_train_features,np.ravel(train_dataset.gender))\n",
        "model_names.append(\"Logistic Regression\")\n",
        "\n"
      ]
    },
    {
      "cell_type": "code",
      "execution_count": 25,
      "metadata": {
        "id": "ImviScE9jDDJ",
        "outputId": "b820cde4-ca5c-4f41-ac95-d9227a351264",
        "colab": {
          "base_uri": "https://localhost:8080/"
        }
      },
      "outputs": [
        {
          "output_type": "stream",
          "name": "stdout",
          "text": [
            "Parameters and their values:\n",
            "\n",
            "RandomForestClassifier()\n"
          ]
        }
      ],
      "source": [
        "random_forest_classifier = RandomForestClassifier()\n",
        "print(\"Parameters and their values:\\n\")\n",
        "print(random_forest_classifier)\n",
        "random_forest_classifier.fit(sparse_train_features,np.ravel(train_dataset.gender))\n",
        "model_names.append('RandomForestClassifier')\n",
        "\n",
        "\n"
      ]
    },
    {
      "cell_type": "code",
      "execution_count": 26,
      "metadata": {
        "id": "WKpFPFzejDDJ",
        "outputId": "a349b500-4d2b-42d0-8087-e9a0f8ca0e9b",
        "colab": {
          "base_uri": "https://localhost:8080/"
        }
      },
      "outputs": [
        {
          "output_type": "stream",
          "name": "stdout",
          "text": [
            "Parameters and their values:\n",
            "\n",
            "LinearSVC()\n"
          ]
        },
        {
          "output_type": "stream",
          "name": "stderr",
          "text": [
            "/usr/local/lib/python3.11/dist-packages/sklearn/svm/_base.py:1249: ConvergenceWarning: Liblinear failed to converge, increase the number of iterations.\n",
            "  warnings.warn(\n"
          ]
        }
      ],
      "source": [
        "linear_svc = LinearSVC()\n",
        "print(\"Parameters and their values:\\n\")\n",
        "print(linear_svc)\n",
        "linear_svc.fit(sparse_train_features,np.ravel(train_dataset.gender))\n",
        "model_names.append('LinearSVC')"
      ]
    },
    {
      "cell_type": "code",
      "execution_count": 27,
      "metadata": {
        "id": "MCzvVnijjDDK",
        "outputId": "6da5c35d-0f6d-473d-fade-f7bd565fe117",
        "colab": {
          "base_uri": "https://localhost:8080/"
        }
      },
      "outputs": [
        {
          "output_type": "stream",
          "name": "stdout",
          "text": [
            "Parameters and their values:\n",
            "\n",
            "BernoulliNB()\n"
          ]
        }
      ],
      "source": [
        "bernoulli_nb = BernoulliNB()\n",
        "print(\"Parameters and their values:\\n\")\n",
        "print(bernoulli_nb)\n",
        "bernoulli_nb.fit(sparse_train_features,np.ravel(train_dataset[['gender']]))\n",
        "model_names.append('BernoulliNB')"
      ]
    },
    {
      "cell_type": "markdown",
      "metadata": {
        "id": "ECtm5TifjDDK"
      },
      "source": [
        "# Step 6: Evaluate Machine Learning Algorithms using Test Data"
      ]
    },
    {
      "cell_type": "code",
      "execution_count": 218,
      "metadata": {
        "id": "igd2MmWFjDDK",
        "outputId": "802f056c-c334-47dd-80d4-34d6378da333",
        "colab": {
          "base_uri": "https://localhost:8080/"
        }
      },
      "outputs": [
        {
          "output_type": "stream",
          "name": "stdout",
          "text": [
            "Prediction using Logistic Regression (Train Data)\n",
            "INDEX  height  weight  hair  beard  scarf  gender prdeicted_gender\n",
            "0       179.1     185     1      1      0       1                1\n",
            "1       160.5     130     3      0      0       0                0\n",
            "2       177.8     160     0      0      0       1                1\n",
            "3       161.1     100     2      0      0       0                0\n",
            "Train Accuracy score =  1.0\n",
            "\n",
            "Prediction using Logistic Regression (Test Data)\n",
            "INDEX  height  weight  hair  beard  scarf  gender predicted_gender\n",
            "0      180.30     196     1      1      0       1                1\n",
            "1      170.00     120     3      0      0       0                0\n",
            "2      178.50     200     0      0      0       1                1\n",
            "3      163.40     110     2      0      1       0                0\n",
            "4      175.22     220     4      1      0       1                1\n",
            "5      165.00     150     4      0      1       0                0\n",
            "Test Accuracy score =  1.0\n"
          ]
        }
      ],
      "source": [
        "scores = []\n",
        "model_names.append(\"Logistic Regression\")\n",
        "y_true = train_dataset['gender']\n",
        "y_pred = logistic_regression.predict(sparse_train_features)\n",
        "score=round(accuracy_score(y_true, y_pred),2)\n",
        "inverse_transform = labelEncoder_gender.inverse_transform(y_pred)\n",
        "print(\"Prediction using Logistic Regression (Train Data)\")\n",
        "print(train_dataset.assign(prdeicted_gender=inverse_transform))\n",
        "print(\"Train Accuracy score = \",score)\n",
        "scores.append(score) # Append train score\n",
        "\n",
        "y_test_true = test_dataset['gender']\n",
        "y_test_pred = logistic_regression.predict(sparse_test_features)\n",
        "score = round(accuracy_score(y_test_true, y_test_pred), 2)\n",
        "inverse_test_transform = labelEncoder_gender.inverse_transform(y_test_pred)\n",
        "\n",
        "print(\"\\nPrediction using Logistic Regression (Test Data)\")\n",
        "print(test_dataset.assign(predicted_gender=inverse_test_transform))\n",
        "print(\"Test Accuracy score = \", score)\n",
        "\n",
        "scores.append(score)"
      ]
    },
    {
      "cell_type": "code",
      "execution_count": 217,
      "metadata": {
        "id": "hf02edGGjDDL",
        "outputId": "169414e0-9978-44fa-a932-5b1f15a338ca",
        "colab": {
          "base_uri": "https://localhost:8080/"
        }
      },
      "outputs": [
        {
          "output_type": "stream",
          "name": "stdout",
          "text": [
            "Prediction using Random Forest Classifier\n",
            "INDEX  height  weight  hair  beard  scarf  gender prdeicted_gender\n",
            "0       179.1     185     1      1      0       1                1\n",
            "1       160.5     130     3      0      0       0                0\n",
            "2       177.8     160     0      0      0       1                1\n",
            "3       161.1     100     2      0      0       0                0\n",
            "Accuracy score =  1.0\n",
            "\n",
            "Prediction using Random Forest Classifier (Test Data)\n",
            "INDEX  height  weight  hair  beard  scarf  gender predicted_gender\n",
            "0      180.30     196     1      1      0       1                1\n",
            "1      170.00     120     3      0      0       0                0\n",
            "2      178.50     200     0      0      0       1                1\n",
            "3      163.40     110     2      0      1       0                0\n",
            "4      175.22     220     4      1      0       1                1\n",
            "5      165.00     150     4      0      1       0                0\n",
            "Test Accuracy score =  1.0\n"
          ]
        }
      ],
      "source": [
        "scores=[]\n",
        "model_names.append(\"Random Forest\")\n",
        "y_true = train_dataset['gender']\n",
        "y_pred = random_forest_classifier.predict(sparse_train_features)\n",
        "score=round(accuracy_score(y_true, y_pred),2)\n",
        "inverse_transform = labelEncoder_gender.inverse_transform(y_pred)\n",
        "print(\"Prediction using Random Forest Classifier\")\n",
        "print(train_dataset.assign(prdeicted_gender=inverse_transform))\n",
        "print(\"Accuracy score = \",score)\n",
        "scores.append(score)\n",
        "\n",
        "y_test_true = test_dataset['gender']\n",
        "y_test_pred = random_forest_classifier.predict(sparse_test_features)\n",
        "score = round(accuracy_score(y_test_true, y_test_pred), 2)\n",
        "inverse_test_transform = labelEncoder_gender.inverse_transform(y_test_pred)\n",
        "\n",
        "print(\"\\nPrediction using Random Forest Classifier (Test Data)\")\n",
        "print(test_dataset.assign(predicted_gender=inverse_test_transform))\n",
        "print(\"Test Accuracy score = \", score)\n",
        "\n",
        "scores.append(score)\n",
        "\n"
      ]
    },
    {
      "cell_type": "code",
      "execution_count": 215,
      "metadata": {
        "id": "jpBmIdsXjDDL",
        "outputId": "14155ae7-0328-40ad-e91a-699d5d071cf0",
        "colab": {
          "base_uri": "https://localhost:8080/"
        }
      },
      "outputs": [
        {
          "output_type": "stream",
          "name": "stdout",
          "text": [
            "Prediction using Linear SVC\n",
            "INDEX  height  weight  hair  beard  scarf  gender prdeicted_gender\n",
            "0       179.1     185     1      1      0       1                1\n",
            "1       160.5     130     3      0      0       0                0\n",
            "2       177.8     160     0      0      0       1                1\n",
            "3       161.1     100     2      0      0       0                0\n",
            "Accuracy score =  1.0\n",
            "\n",
            "Prediction using Linear SVC (Test Data)\n",
            "INDEX  height  weight  hair  beard  scarf  gender predicted_gender\n",
            "0      180.30     196     1      1      0       1                1\n",
            "1      170.00     120     3      0      0       0                0\n",
            "2      178.50     200     0      0      0       1                1\n",
            "3      163.40     110     2      0      1       0                0\n",
            "4      175.22     220     4      1      0       1                1\n",
            "5      165.00     150     4      0      1       0                1\n",
            "Test Accuracy score = 0.83\n"
          ]
        }
      ],
      "source": [
        "scores=[]\n",
        "model_names.append(\"Linear SVC\")\n",
        "y_true = train_dataset['gender']\n",
        "y_pred = linear_svc.predict(sparse_train_features)\n",
        "score=round(accuracy_score(y_true, y_pred),2)\n",
        "inverse_transform = labelEncoder_gender.inverse_transform(y_pred)\n",
        "print(\"Prediction using Linear SVC\")\n",
        "print(train_dataset.assign(prdeicted_gender=inverse_transform))\n",
        "print(\"Accuracy score = \",score)\n",
        "scores.append(score)\n",
        "\n",
        "y_test_true = test_dataset['gender']\n",
        "y_test_pred = linear_svc.predict(sparse_test_features)\n",
        "score = round(accuracy_score(y_test_true, y_test_pred), 2)\n",
        "inverse_test_transform = labelEncoder_gender.inverse_transform(y_test_pred)\n",
        "\n",
        "print(\"\\nPrediction using Linear SVC (Test Data)\")\n",
        "print(test_dataset.assign(predicted_gender=inverse_test_transform))\n",
        "print(\"Test Accuracy score =\", score)\n",
        "\n",
        "scores.append(score)\n"
      ]
    },
    {
      "cell_type": "code",
      "execution_count": 216,
      "metadata": {
        "id": "NawZWQVVjDDL",
        "outputId": "887bc55a-a4c4-4470-eccf-ec6926255052",
        "colab": {
          "base_uri": "https://localhost:8080/"
        }
      },
      "outputs": [
        {
          "output_type": "stream",
          "name": "stdout",
          "text": [
            "Prediction using Bernoulli NB (Train)\n",
            "INDEX  height  weight  hair  beard  scarf  gender predicted_gender\n",
            "0       179.1     185     1      1      0       1                1\n",
            "1       160.5     130     3      0      0       0                0\n",
            "2       177.8     160     0      0      0       1                1\n",
            "3       161.1     100     2      0      0       0                0\n",
            "Train Accuracy Score = 0.83\n",
            "\n",
            "Prediction using Bernoulli NB (Test)\n",
            "INDEX  height  weight  hair  beard  scarf  gender predicted_gender\n",
            "0      180.30     196     1      1      0       1                1\n",
            "1      170.00     120     3      0      0       0                0\n",
            "2      178.50     200     0      0      0       1                1\n",
            "3      163.40     110     2      0      1       0                0\n",
            "4      175.22     220     4      1      0       1                1\n",
            "5      165.00     150     4      0      1       0                0\n",
            "Test Accuracy Score = 1.0\n"
          ]
        }
      ],
      "source": [
        "scores = []\n",
        "model_names.append(\"BernoulliNB\")\n",
        "y_train_true = train_dataset['gender']\n",
        "y_train_pred = bernoulli_nb.predict(sparse_train_features)\n",
        "train_score = round(accuracy_score(y_train_true, y_train_pred), 2)\n",
        "inverse_transform= labelEncoder_gender.inverse_transform(y_train_pred)\n",
        "\n",
        "print(\"Prediction using Bernoulli NB (Train)\")\n",
        "print(train_dataset.assign(predicted_gender=inverse_transform))\n",
        "print(\"Train Accuracy Score =\", score)\n",
        "\n",
        "scores.append(score)\n",
        "\n",
        "\n",
        "y_test_true = test_dataset['gender']\n",
        "y_test_pred = bernoulli_nb.predict(sparse_test_features)\n",
        "score = round(accuracy_score(y_test_true, y_test_pred), 2)\n",
        "inverse_test_transform = labelEncoder_gender.inverse_transform(y_test_pred)\n",
        "\n",
        "print(\"\\nPrediction using Bernoulli NB (Test)\")\n",
        "print(test_dataset.assign(predicted_gender=inverse_test_transform))\n",
        "print(\"Test Accuracy Score =\", score)\n",
        "\n",
        "scores.append(score)\n"
      ]
    },
    {
      "cell_type": "markdown",
      "metadata": {
        "id": "uH7ldJFJjDDT"
      },
      "source": [
        "# PHASE 3: APPLICATION PHASE"
      ]
    },
    {
      "cell_type": "markdown",
      "metadata": {
        "id": "-ESADm-wjDDU"
      },
      "source": [
        "# Step 8: Application Phase"
      ]
    },
    {
      "cell_type": "markdown",
      "metadata": {
        "id": "4QUIIZ8XjDDU"
      },
      "source": [
        "### Step 8.1: Combine Data (Train+Test)"
      ]
    },
    {
      "cell_type": "code",
      "execution_count": 206,
      "metadata": {
        "id": "xw041Xs0jDDV",
        "outputId": "c24d5659-54db-44c9-928e-5f6fa226ea5f",
        "colab": {
          "base_uri": "https://localhost:8080/"
        }
      },
      "outputs": [
        {
          "output_type": "stream",
          "name": "stdout",
          "text": [
            "train features in form of dataframe:\n",
            "\n",
            "INDEX  height  weight  hair  beard  gender\n",
            "0       179.1   185.0   1.0    1.0       1\n",
            "1       160.5   130.0   3.0    0.0       0\n",
            "2       177.8   160.0   0.0    0.0       1\n",
            "3       161.1   100.0   2.0    0.0       0\n"
          ]
        }
      ],
      "source": [
        "train_features_df = pd.DataFrame(sparse_train_features.toarray(),columns =['height','weight','hair','beard','gender'] )\n",
        "test_features_df = pd.DataFrame(sparse_test_features.toarray(),columns =['height','weight','hair','beard','gender'] )\n",
        "print(\"train features in form of dataframe:\\n\")\n",
        "train_features_df.index.names = ['INDEX']\n",
        "train_features_df.columns.name = train_features_df.index.name\n",
        "train_features_df.index.name = None\n",
        "print(train_features_df.assign(gender=train_dataset['gender']))"
      ]
    },
    {
      "cell_type": "code",
      "execution_count": 205,
      "metadata": {
        "id": "_8v7fL5DjDDW",
        "outputId": "0105b08b-3043-453a-bf6e-7c3e220b0289",
        "colab": {
          "base_uri": "https://localhost:8080/"
        }
      },
      "outputs": [
        {
          "output_type": "stream",
          "name": "stdout",
          "text": [
            "test features in form of dataframe:\n",
            "\n",
            "INDEX  height  weight  hair  beard  gender\n",
            "0      180.30   196.0   1.0    1.0       1\n",
            "1      170.00   120.0   3.0    0.0       0\n",
            "2      178.50   200.0   0.0    0.0       1\n",
            "3      163.40   110.0   2.0    0.0       0\n",
            "4      175.22   220.0   4.0    1.0       1\n",
            "5      165.00   150.0   4.0    0.0       0\n"
          ]
        }
      ],
      "source": [
        "print(\"test features in form of dataframe:\\n\")\n",
        "test_features_df.index.names = ['INDEX']\n",
        "test_features_df.columns.name = test_features_df.index.name\n",
        "test_features_df.index.name = None\n",
        "print(test_features_df.assign(gender=test_dataset['gender']))"
      ]
    },
    {
      "cell_type": "code",
      "execution_count": 204,
      "metadata": {
        "id": "gMn3JHqRjDDW",
        "outputId": "f9541c53-ec8f-4614-ab2d-b0a702c5b476",
        "colab": {
          "base_uri": "https://localhost:8080/"
        }
      },
      "outputs": [
        {
          "output_type": "stream",
          "name": "stdout",
          "text": [
            "All features of train and test dataset\n",
            "INDEX  height  weight  hair  beard  gender\n",
            "0      179.10   185.0   1.0    1.0       1\n",
            "1      160.50   130.0   3.0    0.0       0\n",
            "2      177.80   160.0   0.0    0.0       1\n",
            "3      161.10   100.0   2.0    0.0       0\n",
            "0      180.30   196.0   1.0    1.0       1\n",
            "1      170.00   120.0   3.0    0.0       0\n",
            "2      178.50   200.0   0.0    0.0       1\n",
            "3      163.40   110.0   2.0    0.0       0\n",
            "4      175.22   220.0   4.0    1.0       1\n",
            "5      165.00   150.0   4.0    0.0       0\n"
          ]
        }
      ],
      "source": [
        "all_features_df = pd.concat([train_features_df,test_features_df])\n",
        "print(\"All features of train and test dataset\")\n",
        "print(all_features_df.assign(gender=pd.concat([train_dataset['gender'],test_dataset['gender']])))\n",
        "all_feature = scipy.sparse.csr_matrix(all_features_df.values)"
      ]
    },
    {
      "cell_type": "markdown",
      "metadata": {
        "id": "TjXgjeKyjDDX"
      },
      "source": [
        "### Step 8.2: Train Best Model (see Step 7) on all features (Train+Test)"
      ]
    },
    {
      "cell_type": "code",
      "execution_count": 221,
      "metadata": {
        "id": "GQYoIMU7jDDX",
        "outputId": "7a26c9f5-7639-4ce8-d7d7-a9e2ea325ab2",
        "colab": {
          "base_uri": "https://localhost:8080/",
          "height": 80
        }
      },
      "outputs": [
        {
          "output_type": "execute_result",
          "data": {
            "text/plain": [
              "BernoulliNB()"
            ],
            "text/html": [
              "<style>#sk-container-id-5 {\n",
              "  /* Definition of color scheme common for light and dark mode */\n",
              "  --sklearn-color-text: #000;\n",
              "  --sklearn-color-text-muted: #666;\n",
              "  --sklearn-color-line: gray;\n",
              "  /* Definition of color scheme for unfitted estimators */\n",
              "  --sklearn-color-unfitted-level-0: #fff5e6;\n",
              "  --sklearn-color-unfitted-level-1: #f6e4d2;\n",
              "  --sklearn-color-unfitted-level-2: #ffe0b3;\n",
              "  --sklearn-color-unfitted-level-3: chocolate;\n",
              "  /* Definition of color scheme for fitted estimators */\n",
              "  --sklearn-color-fitted-level-0: #f0f8ff;\n",
              "  --sklearn-color-fitted-level-1: #d4ebff;\n",
              "  --sklearn-color-fitted-level-2: #b3dbfd;\n",
              "  --sklearn-color-fitted-level-3: cornflowerblue;\n",
              "\n",
              "  /* Specific color for light theme */\n",
              "  --sklearn-color-text-on-default-background: var(--sg-text-color, var(--theme-code-foreground, var(--jp-content-font-color1, black)));\n",
              "  --sklearn-color-background: var(--sg-background-color, var(--theme-background, var(--jp-layout-color0, white)));\n",
              "  --sklearn-color-border-box: var(--sg-text-color, var(--theme-code-foreground, var(--jp-content-font-color1, black)));\n",
              "  --sklearn-color-icon: #696969;\n",
              "\n",
              "  @media (prefers-color-scheme: dark) {\n",
              "    /* Redefinition of color scheme for dark theme */\n",
              "    --sklearn-color-text-on-default-background: var(--sg-text-color, var(--theme-code-foreground, var(--jp-content-font-color1, white)));\n",
              "    --sklearn-color-background: var(--sg-background-color, var(--theme-background, var(--jp-layout-color0, #111)));\n",
              "    --sklearn-color-border-box: var(--sg-text-color, var(--theme-code-foreground, var(--jp-content-font-color1, white)));\n",
              "    --sklearn-color-icon: #878787;\n",
              "  }\n",
              "}\n",
              "\n",
              "#sk-container-id-5 {\n",
              "  color: var(--sklearn-color-text);\n",
              "}\n",
              "\n",
              "#sk-container-id-5 pre {\n",
              "  padding: 0;\n",
              "}\n",
              "\n",
              "#sk-container-id-5 input.sk-hidden--visually {\n",
              "  border: 0;\n",
              "  clip: rect(1px 1px 1px 1px);\n",
              "  clip: rect(1px, 1px, 1px, 1px);\n",
              "  height: 1px;\n",
              "  margin: -1px;\n",
              "  overflow: hidden;\n",
              "  padding: 0;\n",
              "  position: absolute;\n",
              "  width: 1px;\n",
              "}\n",
              "\n",
              "#sk-container-id-5 div.sk-dashed-wrapped {\n",
              "  border: 1px dashed var(--sklearn-color-line);\n",
              "  margin: 0 0.4em 0.5em 0.4em;\n",
              "  box-sizing: border-box;\n",
              "  padding-bottom: 0.4em;\n",
              "  background-color: var(--sklearn-color-background);\n",
              "}\n",
              "\n",
              "#sk-container-id-5 div.sk-container {\n",
              "  /* jupyter's `normalize.less` sets `[hidden] { display: none; }`\n",
              "     but bootstrap.min.css set `[hidden] { display: none !important; }`\n",
              "     so we also need the `!important` here to be able to override the\n",
              "     default hidden behavior on the sphinx rendered scikit-learn.org.\n",
              "     See: https://github.com/scikit-learn/scikit-learn/issues/21755 */\n",
              "  display: inline-block !important;\n",
              "  position: relative;\n",
              "}\n",
              "\n",
              "#sk-container-id-5 div.sk-text-repr-fallback {\n",
              "  display: none;\n",
              "}\n",
              "\n",
              "div.sk-parallel-item,\n",
              "div.sk-serial,\n",
              "div.sk-item {\n",
              "  /* draw centered vertical line to link estimators */\n",
              "  background-image: linear-gradient(var(--sklearn-color-text-on-default-background), var(--sklearn-color-text-on-default-background));\n",
              "  background-size: 2px 100%;\n",
              "  background-repeat: no-repeat;\n",
              "  background-position: center center;\n",
              "}\n",
              "\n",
              "/* Parallel-specific style estimator block */\n",
              "\n",
              "#sk-container-id-5 div.sk-parallel-item::after {\n",
              "  content: \"\";\n",
              "  width: 100%;\n",
              "  border-bottom: 2px solid var(--sklearn-color-text-on-default-background);\n",
              "  flex-grow: 1;\n",
              "}\n",
              "\n",
              "#sk-container-id-5 div.sk-parallel {\n",
              "  display: flex;\n",
              "  align-items: stretch;\n",
              "  justify-content: center;\n",
              "  background-color: var(--sklearn-color-background);\n",
              "  position: relative;\n",
              "}\n",
              "\n",
              "#sk-container-id-5 div.sk-parallel-item {\n",
              "  display: flex;\n",
              "  flex-direction: column;\n",
              "}\n",
              "\n",
              "#sk-container-id-5 div.sk-parallel-item:first-child::after {\n",
              "  align-self: flex-end;\n",
              "  width: 50%;\n",
              "}\n",
              "\n",
              "#sk-container-id-5 div.sk-parallel-item:last-child::after {\n",
              "  align-self: flex-start;\n",
              "  width: 50%;\n",
              "}\n",
              "\n",
              "#sk-container-id-5 div.sk-parallel-item:only-child::after {\n",
              "  width: 0;\n",
              "}\n",
              "\n",
              "/* Serial-specific style estimator block */\n",
              "\n",
              "#sk-container-id-5 div.sk-serial {\n",
              "  display: flex;\n",
              "  flex-direction: column;\n",
              "  align-items: center;\n",
              "  background-color: var(--sklearn-color-background);\n",
              "  padding-right: 1em;\n",
              "  padding-left: 1em;\n",
              "}\n",
              "\n",
              "\n",
              "/* Toggleable style: style used for estimator/Pipeline/ColumnTransformer box that is\n",
              "clickable and can be expanded/collapsed.\n",
              "- Pipeline and ColumnTransformer use this feature and define the default style\n",
              "- Estimators will overwrite some part of the style using the `sk-estimator` class\n",
              "*/\n",
              "\n",
              "/* Pipeline and ColumnTransformer style (default) */\n",
              "\n",
              "#sk-container-id-5 div.sk-toggleable {\n",
              "  /* Default theme specific background. It is overwritten whether we have a\n",
              "  specific estimator or a Pipeline/ColumnTransformer */\n",
              "  background-color: var(--sklearn-color-background);\n",
              "}\n",
              "\n",
              "/* Toggleable label */\n",
              "#sk-container-id-5 label.sk-toggleable__label {\n",
              "  cursor: pointer;\n",
              "  display: flex;\n",
              "  width: 100%;\n",
              "  margin-bottom: 0;\n",
              "  padding: 0.5em;\n",
              "  box-sizing: border-box;\n",
              "  text-align: center;\n",
              "  align-items: start;\n",
              "  justify-content: space-between;\n",
              "  gap: 0.5em;\n",
              "}\n",
              "\n",
              "#sk-container-id-5 label.sk-toggleable__label .caption {\n",
              "  font-size: 0.6rem;\n",
              "  font-weight: lighter;\n",
              "  color: var(--sklearn-color-text-muted);\n",
              "}\n",
              "\n",
              "#sk-container-id-5 label.sk-toggleable__label-arrow:before {\n",
              "  /* Arrow on the left of the label */\n",
              "  content: \"▸\";\n",
              "  float: left;\n",
              "  margin-right: 0.25em;\n",
              "  color: var(--sklearn-color-icon);\n",
              "}\n",
              "\n",
              "#sk-container-id-5 label.sk-toggleable__label-arrow:hover:before {\n",
              "  color: var(--sklearn-color-text);\n",
              "}\n",
              "\n",
              "/* Toggleable content - dropdown */\n",
              "\n",
              "#sk-container-id-5 div.sk-toggleable__content {\n",
              "  max-height: 0;\n",
              "  max-width: 0;\n",
              "  overflow: hidden;\n",
              "  text-align: left;\n",
              "  /* unfitted */\n",
              "  background-color: var(--sklearn-color-unfitted-level-0);\n",
              "}\n",
              "\n",
              "#sk-container-id-5 div.sk-toggleable__content.fitted {\n",
              "  /* fitted */\n",
              "  background-color: var(--sklearn-color-fitted-level-0);\n",
              "}\n",
              "\n",
              "#sk-container-id-5 div.sk-toggleable__content pre {\n",
              "  margin: 0.2em;\n",
              "  border-radius: 0.25em;\n",
              "  color: var(--sklearn-color-text);\n",
              "  /* unfitted */\n",
              "  background-color: var(--sklearn-color-unfitted-level-0);\n",
              "}\n",
              "\n",
              "#sk-container-id-5 div.sk-toggleable__content.fitted pre {\n",
              "  /* unfitted */\n",
              "  background-color: var(--sklearn-color-fitted-level-0);\n",
              "}\n",
              "\n",
              "#sk-container-id-5 input.sk-toggleable__control:checked~div.sk-toggleable__content {\n",
              "  /* Expand drop-down */\n",
              "  max-height: 200px;\n",
              "  max-width: 100%;\n",
              "  overflow: auto;\n",
              "}\n",
              "\n",
              "#sk-container-id-5 input.sk-toggleable__control:checked~label.sk-toggleable__label-arrow:before {\n",
              "  content: \"▾\";\n",
              "}\n",
              "\n",
              "/* Pipeline/ColumnTransformer-specific style */\n",
              "\n",
              "#sk-container-id-5 div.sk-label input.sk-toggleable__control:checked~label.sk-toggleable__label {\n",
              "  color: var(--sklearn-color-text);\n",
              "  background-color: var(--sklearn-color-unfitted-level-2);\n",
              "}\n",
              "\n",
              "#sk-container-id-5 div.sk-label.fitted input.sk-toggleable__control:checked~label.sk-toggleable__label {\n",
              "  background-color: var(--sklearn-color-fitted-level-2);\n",
              "}\n",
              "\n",
              "/* Estimator-specific style */\n",
              "\n",
              "/* Colorize estimator box */\n",
              "#sk-container-id-5 div.sk-estimator input.sk-toggleable__control:checked~label.sk-toggleable__label {\n",
              "  /* unfitted */\n",
              "  background-color: var(--sklearn-color-unfitted-level-2);\n",
              "}\n",
              "\n",
              "#sk-container-id-5 div.sk-estimator.fitted input.sk-toggleable__control:checked~label.sk-toggleable__label {\n",
              "  /* fitted */\n",
              "  background-color: var(--sklearn-color-fitted-level-2);\n",
              "}\n",
              "\n",
              "#sk-container-id-5 div.sk-label label.sk-toggleable__label,\n",
              "#sk-container-id-5 div.sk-label label {\n",
              "  /* The background is the default theme color */\n",
              "  color: var(--sklearn-color-text-on-default-background);\n",
              "}\n",
              "\n",
              "/* On hover, darken the color of the background */\n",
              "#sk-container-id-5 div.sk-label:hover label.sk-toggleable__label {\n",
              "  color: var(--sklearn-color-text);\n",
              "  background-color: var(--sklearn-color-unfitted-level-2);\n",
              "}\n",
              "\n",
              "/* Label box, darken color on hover, fitted */\n",
              "#sk-container-id-5 div.sk-label.fitted:hover label.sk-toggleable__label.fitted {\n",
              "  color: var(--sklearn-color-text);\n",
              "  background-color: var(--sklearn-color-fitted-level-2);\n",
              "}\n",
              "\n",
              "/* Estimator label */\n",
              "\n",
              "#sk-container-id-5 div.sk-label label {\n",
              "  font-family: monospace;\n",
              "  font-weight: bold;\n",
              "  display: inline-block;\n",
              "  line-height: 1.2em;\n",
              "}\n",
              "\n",
              "#sk-container-id-5 div.sk-label-container {\n",
              "  text-align: center;\n",
              "}\n",
              "\n",
              "/* Estimator-specific */\n",
              "#sk-container-id-5 div.sk-estimator {\n",
              "  font-family: monospace;\n",
              "  border: 1px dotted var(--sklearn-color-border-box);\n",
              "  border-radius: 0.25em;\n",
              "  box-sizing: border-box;\n",
              "  margin-bottom: 0.5em;\n",
              "  /* unfitted */\n",
              "  background-color: var(--sklearn-color-unfitted-level-0);\n",
              "}\n",
              "\n",
              "#sk-container-id-5 div.sk-estimator.fitted {\n",
              "  /* fitted */\n",
              "  background-color: var(--sklearn-color-fitted-level-0);\n",
              "}\n",
              "\n",
              "/* on hover */\n",
              "#sk-container-id-5 div.sk-estimator:hover {\n",
              "  /* unfitted */\n",
              "  background-color: var(--sklearn-color-unfitted-level-2);\n",
              "}\n",
              "\n",
              "#sk-container-id-5 div.sk-estimator.fitted:hover {\n",
              "  /* fitted */\n",
              "  background-color: var(--sklearn-color-fitted-level-2);\n",
              "}\n",
              "\n",
              "/* Specification for estimator info (e.g. \"i\" and \"?\") */\n",
              "\n",
              "/* Common style for \"i\" and \"?\" */\n",
              "\n",
              ".sk-estimator-doc-link,\n",
              "a:link.sk-estimator-doc-link,\n",
              "a:visited.sk-estimator-doc-link {\n",
              "  float: right;\n",
              "  font-size: smaller;\n",
              "  line-height: 1em;\n",
              "  font-family: monospace;\n",
              "  background-color: var(--sklearn-color-background);\n",
              "  border-radius: 1em;\n",
              "  height: 1em;\n",
              "  width: 1em;\n",
              "  text-decoration: none !important;\n",
              "  margin-left: 0.5em;\n",
              "  text-align: center;\n",
              "  /* unfitted */\n",
              "  border: var(--sklearn-color-unfitted-level-1) 1pt solid;\n",
              "  color: var(--sklearn-color-unfitted-level-1);\n",
              "}\n",
              "\n",
              ".sk-estimator-doc-link.fitted,\n",
              "a:link.sk-estimator-doc-link.fitted,\n",
              "a:visited.sk-estimator-doc-link.fitted {\n",
              "  /* fitted */\n",
              "  border: var(--sklearn-color-fitted-level-1) 1pt solid;\n",
              "  color: var(--sklearn-color-fitted-level-1);\n",
              "}\n",
              "\n",
              "/* On hover */\n",
              "div.sk-estimator:hover .sk-estimator-doc-link:hover,\n",
              ".sk-estimator-doc-link:hover,\n",
              "div.sk-label-container:hover .sk-estimator-doc-link:hover,\n",
              ".sk-estimator-doc-link:hover {\n",
              "  /* unfitted */\n",
              "  background-color: var(--sklearn-color-unfitted-level-3);\n",
              "  color: var(--sklearn-color-background);\n",
              "  text-decoration: none;\n",
              "}\n",
              "\n",
              "div.sk-estimator.fitted:hover .sk-estimator-doc-link.fitted:hover,\n",
              ".sk-estimator-doc-link.fitted:hover,\n",
              "div.sk-label-container:hover .sk-estimator-doc-link.fitted:hover,\n",
              ".sk-estimator-doc-link.fitted:hover {\n",
              "  /* fitted */\n",
              "  background-color: var(--sklearn-color-fitted-level-3);\n",
              "  color: var(--sklearn-color-background);\n",
              "  text-decoration: none;\n",
              "}\n",
              "\n",
              "/* Span, style for the box shown on hovering the info icon */\n",
              ".sk-estimator-doc-link span {\n",
              "  display: none;\n",
              "  z-index: 9999;\n",
              "  position: relative;\n",
              "  font-weight: normal;\n",
              "  right: .2ex;\n",
              "  padding: .5ex;\n",
              "  margin: .5ex;\n",
              "  width: min-content;\n",
              "  min-width: 20ex;\n",
              "  max-width: 50ex;\n",
              "  color: var(--sklearn-color-text);\n",
              "  box-shadow: 2pt 2pt 4pt #999;\n",
              "  /* unfitted */\n",
              "  background: var(--sklearn-color-unfitted-level-0);\n",
              "  border: .5pt solid var(--sklearn-color-unfitted-level-3);\n",
              "}\n",
              "\n",
              ".sk-estimator-doc-link.fitted span {\n",
              "  /* fitted */\n",
              "  background: var(--sklearn-color-fitted-level-0);\n",
              "  border: var(--sklearn-color-fitted-level-3);\n",
              "}\n",
              "\n",
              ".sk-estimator-doc-link:hover span {\n",
              "  display: block;\n",
              "}\n",
              "\n",
              "/* \"?\"-specific style due to the `<a>` HTML tag */\n",
              "\n",
              "#sk-container-id-5 a.estimator_doc_link {\n",
              "  float: right;\n",
              "  font-size: 1rem;\n",
              "  line-height: 1em;\n",
              "  font-family: monospace;\n",
              "  background-color: var(--sklearn-color-background);\n",
              "  border-radius: 1rem;\n",
              "  height: 1rem;\n",
              "  width: 1rem;\n",
              "  text-decoration: none;\n",
              "  /* unfitted */\n",
              "  color: var(--sklearn-color-unfitted-level-1);\n",
              "  border: var(--sklearn-color-unfitted-level-1) 1pt solid;\n",
              "}\n",
              "\n",
              "#sk-container-id-5 a.estimator_doc_link.fitted {\n",
              "  /* fitted */\n",
              "  border: var(--sklearn-color-fitted-level-1) 1pt solid;\n",
              "  color: var(--sklearn-color-fitted-level-1);\n",
              "}\n",
              "\n",
              "/* On hover */\n",
              "#sk-container-id-5 a.estimator_doc_link:hover {\n",
              "  /* unfitted */\n",
              "  background-color: var(--sklearn-color-unfitted-level-3);\n",
              "  color: var(--sklearn-color-background);\n",
              "  text-decoration: none;\n",
              "}\n",
              "\n",
              "#sk-container-id-5 a.estimator_doc_link.fitted:hover {\n",
              "  /* fitted */\n",
              "  background-color: var(--sklearn-color-fitted-level-3);\n",
              "}\n",
              "</style><div id=\"sk-container-id-5\" class=\"sk-top-container\"><div class=\"sk-text-repr-fallback\"><pre>BernoulliNB()</pre><b>In a Jupyter environment, please rerun this cell to show the HTML representation or trust the notebook. <br />On GitHub, the HTML representation is unable to render, please try loading this page with nbviewer.org.</b></div><div class=\"sk-container\" hidden><div class=\"sk-item\"><div class=\"sk-estimator fitted sk-toggleable\"><input class=\"sk-toggleable__control sk-hidden--visually\" id=\"sk-estimator-id-5\" type=\"checkbox\" checked><label for=\"sk-estimator-id-5\" class=\"sk-toggleable__label fitted sk-toggleable__label-arrow\"><div><div>BernoulliNB</div></div><div><a class=\"sk-estimator-doc-link fitted\" rel=\"noreferrer\" target=\"_blank\" href=\"https://scikit-learn.org/1.6/modules/generated/sklearn.naive_bayes.BernoulliNB.html\">?<span>Documentation for BernoulliNB</span></a><span class=\"sk-estimator-doc-link fitted\">i<span>Fitted</span></span></div></label><div class=\"sk-toggleable__content fitted\"><pre>BernoulliNB()</pre></div> </div></div></div></div>"
            ]
          },
          "metadata": {},
          "execution_count": 221
        }
      ],
      "source": [
        "bernoulli_nb.fit(all_feature,np.ravel(pd.concat([train_dataset['gender'],test_dataset['gender']])))\n"
      ]
    },
    {
      "cell_type": "markdown",
      "metadata": {
        "id": "hhngFMpyjDDY"
      },
      "source": [
        "### Step 8.3: Save the trained model in Pickle file"
      ]
    },
    {
      "cell_type": "code",
      "execution_count": 222,
      "metadata": {
        "id": "CwaoW2Z1jDDY"
      },
      "outputs": [],
      "source": [
        "pickle.dump(bernoulli_nb, open('model.pkl', 'wb'))"
      ]
    },
    {
      "cell_type": "markdown",
      "metadata": {
        "id": "pOoniZcUjDDY"
      },
      "source": [
        "# Step 9: Make prediction on unseen/new data"
      ]
    },
    {
      "cell_type": "code",
      "execution_count": 223,
      "metadata": {
        "id": "c5KFz4wAjDDY"
      },
      "outputs": [],
      "source": [
        "classifier = pickle.load(open('model.pkl', 'rb'))"
      ]
    },
    {
      "cell_type": "markdown",
      "metadata": {
        "id": "GKCnmu0qjDDZ"
      },
      "source": [
        "### Step 9.2: Take Input from User"
      ]
    },
    {
      "cell_type": "code",
      "execution_count": 241,
      "metadata": {
        "id": "Q8a5pKW4jDDZ",
        "outputId": "b8500eee-5a2d-469b-c986-c499ba3c5c02",
        "colab": {
          "base_uri": "https://localhost:8080/"
        }
      },
      "outputs": [
        {
          "name": "stdout",
          "output_type": "stream",
          "text": [
            "Please enter your height here (centimeter):180\n",
            "Please enter your weight here(kg):52\n",
            "Please enter you Hair length here(Bald/Long/Short/Medium):Medium\n",
            "Please enter you Beard here(Yes/No):Yes\n",
            "Please enter you Scarf here(Yes/No):No\n"
          ]
        }
      ],
      "source": [
        "height = float(input(\"Please enter your height here (centimeter):\").strip())\n",
        "weight = int(input(\"Please enter your weight here(kg):\").strip())\n",
        "hair = input(\"Please enter you Hair length here(Bald/Long/Short/Medium):\".strip())\n",
        "beard = input(\"Please enter you Beard here(Yes/No):\".strip())\n",
        "scarf = input(\"Please enter you Scarf here(Yes/No):\".strip())"
      ]
    },
    {
      "cell_type": "markdown",
      "metadata": {
        "id": "_xJiQWNTjDDZ"
      },
      "source": [
        "### Step 9.3: Convert User Input into Feature Vector (Same as Feature Vector of Trained Model)"
      ]
    },
    {
      "cell_type": "code",
      "execution_count": 242,
      "metadata": {
        "id": "oXeC_pZYjDDa",
        "outputId": "b7c49f86-5693-40e2-ce0c-9fa8f9a612aa",
        "colab": {
          "base_uri": "https://localhost:8080/"
        }
      },
      "outputs": [
        {
          "output_type": "stream",
          "name": "stdout",
          "text": [
            "User input in actual daataframe form\n",
            "\n",
            "   Height  Weight    Hair Beard Scarf\n",
            "0   180.0      52  Medium   Yes    No\n"
          ]
        }
      ],
      "source": [
        "user_input_df = pd.DataFrame({'Height':[height],'Weight':[weight],'Hair':[hair],'Beard':[beard],'Scarf':[scarf]})\n",
        "user_input_df = user_input_df[['Height','Weight','Hair','Beard','Scarf']]\n",
        "print(\"User input in actual daataframe form\\n\")\n",
        "print(user_input_df)"
      ]
    },
    {
      "cell_type": "code",
      "execution_count": 243,
      "metadata": {
        "id": "F0PhSEh1jDDa",
        "outputId": "501bc3dc-7017-42da-9b51-eadb99f38a22",
        "colab": {
          "base_uri": "https://localhost:8080/"
        }
      },
      "outputs": [
        {
          "output_type": "stream",
          "name": "stdout",
          "text": [
            "User input in actual form\n",
            "\n",
            "   Height  Weight    Hair Beard Scarf\n",
            "0   180.0      52  Medium   Yes    No\n",
            "\n",
            "User input in Encoded DataFrame form:\n",
            "\n",
            "   Height  Weight  Hair  Beard  Scarf\n",
            "0   180.0      52     3      1      0\n"
          ]
        },
        {
          "output_type": "stream",
          "name": "stderr",
          "text": [
            "/tmp/ipython-input-243-2938365783.py:4: FutureWarning: Downcasting behavior in `replace` is deprecated and will be removed in a future version. To retain the old behavior, explicitly call `result.infer_objects(copy=False)`. To opt-in to the future behavior, set `pd.set_option('future.no_silent_downcasting', True)`\n",
            "  user_input_df.Hair = user_input_df.Hair.replace(['Bald','Long','Short','Medium'],[0,1,2,3])\n",
            "/tmp/ipython-input-243-2938365783.py:5: FutureWarning: Downcasting behavior in `replace` is deprecated and will be removed in a future version. To retain the old behavior, explicitly call `result.infer_objects(copy=False)`. To opt-in to the future behavior, set `pd.set_option('future.no_silent_downcasting', True)`\n",
            "  user_input_df.Scarf = user_input_df.Scarf.replace(['Yes','No'],[1,0])\n",
            "/tmp/ipython-input-243-2938365783.py:6: FutureWarning: Downcasting behavior in `replace` is deprecated and will be removed in a future version. To retain the old behavior, explicitly call `result.infer_objects(copy=False)`. To opt-in to the future behavior, set `pd.set_option('future.no_silent_downcasting', True)`\n",
            "  user_input_df.Beard = user_input_df.Beard.replace(['Yes','No'],[1,0])\n"
          ]
        }
      ],
      "source": [
        "print(\"User input in actual form\\n\")\n",
        "print(user_input_df)\n",
        "\n",
        "user_input_df.Hair = user_input_df.Hair.replace(['Bald','Long','Short','Medium'],[0,1,2,3])\n",
        "user_input_df.Scarf = user_input_df.Scarf.replace(['Yes','No'],[1,0])\n",
        "user_input_df.Beard = user_input_df.Beard.replace(['Yes','No'],[1,0])\n",
        "print(\"\\nUser input in Encoded DataFrame form:\\n\")\n",
        "print(user_input_df)\n",
        "sparse_matrix = scipy.sparse.csr_matrix(user_input_df.values)"
      ]
    },
    {
      "cell_type": "markdown",
      "metadata": {
        "id": "gtQVaZdnjDDa"
      },
      "source": [
        "### Step 9.4: Apply Trained Model on Feature Vector of Unseen Data and Output Prediction (Male/Female) to User"
      ]
    },
    {
      "cell_type": "code",
      "execution_count": 250,
      "metadata": {
        "id": "Sm2u0bqyjDDa",
        "outputId": "daeb3463-89eb-46bc-e1b0-59428bbe3bb2",
        "colab": {
          "base_uri": "https://localhost:8080/",
          "height": 408
        }
      },
      "outputs": [
        {
          "output_type": "stream",
          "name": "stdout",
          "text": [
            "Prediction: Male\n"
          ]
        },
        {
          "output_type": "display_data",
          "data": {
            "text/plain": [
              "<Figure size 600x400 with 1 Axes>"
            ],
            "image/png": "[encoded data removed]"
          },
          "metadata": {}
        }
      ],
      "source": [
        "import matplotlib.pyplot as plt\n",
        "\n",
        "# Predict the class\n",
        "pred = classifier.predict(sparse_matrix)\n",
        "predicted_label = labelEncoder_gender.inverse_transform(pred)[0]\n",
        "\n",
        "# Print text output\n",
        "print(\"Prediction:\", end=' ')\n",
        "if(pred==1):\n",
        "  print(\"Male\")\n",
        "if(pred==0):\n",
        "  print(\"Female\")\n",
        "\n",
        "\n",
        "\n",
        "labels = list(labelEncoder_gender.classes_)\n",
        "values = [1 if label == predicted_label else 0 for label in labels]\n",
        "\n",
        "\n",
        "plt.figure(figsize=(6, 4))\n",
        "bars = plt.bar(labels, values, color = 'yellow')\n",
        "plt.ylim(0, 1.2)\n",
        "plt.title(\"Predicted Gender\")\n",
        "plt.ylabel(\"Prediction Indicator (1 = Selected)\")\n",
        "\n",
        "\n",
        "for i, v in enumerate(values):\n",
        "    if v == 1:\n",
        "        plt.text(i, v + 0.05, f\"✔ {labels[i]}\", ha='center', fontsize=14, color='black')\n",
        "\n",
        "plt.show()\n"
      ]
    },
    {
      "cell_type": "code",
      "source": [],
      "metadata": {
        "id": "nVBieAtUTw7x"
      },
      "execution_count": null,
      "outputs": []
    }
  ],
  "metadata": {
    "kernelspec": {
      "display_name": "Python 3",
      "language": "python",
      "name": "python3"
    },
    "language_info": {
      "codemirror_mode": {
        "name": "ipython",
        "version": 3
      },
      "file_extension": ".py",
      "mimetype": "text/x-python",
      "name": "python",
      "nbconvert_exporter": "python",
      "pygments_lexer": "ipython3",
      "version": "3.6.5"
    },
    "colab": {
      "provenance": []
    }
  },
  "nbformat": 4,
  "nbformat_minor": 0
}